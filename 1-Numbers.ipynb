{
 "cells": [
  {
   "cell_type": "code",
   "execution_count": 1,
   "id": "e8320407-75d2-4263-bd23-780e62b29d69",
   "metadata": {},
   "outputs": [
    {
     "data": {
      "text/plain": [
       "8"
      ]
     },
     "execution_count": 1,
     "metadata": {},
     "output_type": "execute_result"
    }
   ],
   "source": [
    "3+5"
   ]
  },
  {
   "cell_type": "code",
   "execution_count": 2,
   "id": "fffb1bac-6b39-4a90-9f1f-e66648a660cf",
   "metadata": {},
   "outputs": [
    {
     "data": {
      "text/plain": [
       "12"
      ]
     },
     "execution_count": 2,
     "metadata": {},
     "output_type": "execute_result"
    }
   ],
   "source": [
    "4*3"
   ]
  },
  {
   "cell_type": "code",
   "execution_count": 3,
   "id": "51525380-2bb0-4e81-870a-a058237df604",
   "metadata": {},
   "outputs": [
    {
     "data": {
      "text/plain": [
       "225.0"
      ]
     },
     "execution_count": 3,
     "metadata": {},
     "output_type": "execute_result"
    }
   ],
   "source": [
    "900/4"
   ]
  },
  {
   "cell_type": "code",
   "execution_count": 4,
   "id": "11b939b3-96d5-4cd8-a03d-c4bbc7ee11ce",
   "metadata": {},
   "outputs": [
    {
     "data": {
      "text/plain": [
       "128.57142857142858"
      ]
     },
     "execution_count": 4,
     "metadata": {},
     "output_type": "execute_result"
    }
   ],
   "source": [
    "900/7"
   ]
  },
  {
   "cell_type": "code",
   "execution_count": 5,
   "id": "8d676433-1fcf-47f3-8fc8-e55a734aa82b",
   "metadata": {},
   "outputs": [
    {
     "data": {
      "text/plain": [
       "-90"
      ]
     },
     "execution_count": 5,
     "metadata": {},
     "output_type": "execute_result"
    }
   ],
   "source": [
    "10-100"
   ]
  },
  {
   "cell_type": "code",
   "execution_count": 6,
   "id": "bfe2917a-fe98-4b6f-8c77-1c235f62cfe8",
   "metadata": {},
   "outputs": [
    {
     "data": {
      "text/plain": [
       "625"
      ]
     },
     "execution_count": 6,
     "metadata": {},
     "output_type": "execute_result"
    }
   ],
   "source": [
    "5*5*5*5"
   ]
  },
  {
   "cell_type": "code",
   "execution_count": 8,
   "id": "e49e79b6-88b5-47a4-915a-a3b8e3f1d6f1",
   "metadata": {},
   "outputs": [],
   "source": [
    "age=50"
   ]
  },
  {
   "cell_type": "code",
   "execution_count": 9,
   "id": "852900aa-77d5-4013-90c5-0f8321df1290",
   "metadata": {},
   "outputs": [
    {
     "data": {
      "text/plain": [
       "50"
      ]
     },
     "execution_count": 9,
     "metadata": {},
     "output_type": "execute_result"
    }
   ],
   "source": [
    "age"
   ]
  },
  {
   "cell_type": "code",
   "execution_count": 10,
   "id": "5f8f30ef-7e42-4519-b9f6-f9fd0536e467",
   "metadata": {},
   "outputs": [
    {
     "data": {
      "text/plain": [
       "10.0"
      ]
     },
     "execution_count": 10,
     "metadata": {},
     "output_type": "execute_result"
    }
   ],
   "source": [
    "age/5"
   ]
  },
  {
   "cell_type": "code",
   "execution_count": 11,
   "id": "8fbcee66-1e64-46b6-9608-97cff24770f6",
   "metadata": {},
   "outputs": [
    {
     "data": {
      "text/plain": [
       "150"
      ]
     },
     "execution_count": 11,
     "metadata": {},
     "output_type": "execute_result"
    }
   ],
   "source": [
    "age*3"
   ]
  },
  {
   "cell_type": "code",
   "execution_count": null,
   "id": "d95d4016-6a0f-4646-9745-d6b1b7287f6c",
   "metadata": {},
   "outputs": [],
   "source": [
    "#data type"
   ]
  },
  {
   "cell_type": "code",
   "execution_count": 12,
   "id": "59e6c700-ee63-4edb-a77d-4aa3bbd19f72",
   "metadata": {},
   "outputs": [
    {
     "data": {
      "text/plain": [
       "int"
      ]
     },
     "execution_count": 12,
     "metadata": {},
     "output_type": "execute_result"
    }
   ],
   "source": [
    "type(10)"
   ]
  },
  {
   "cell_type": "code",
   "execution_count": 13,
   "id": "926e984d-7eb3-4276-a27e-a288bce6bdf9",
   "metadata": {},
   "outputs": [
    {
     "data": {
      "text/plain": [
       "int"
      ]
     },
     "execution_count": 13,
     "metadata": {},
     "output_type": "execute_result"
    }
   ],
   "source": [
    "type(10*3)"
   ]
  },
  {
   "cell_type": "code",
   "execution_count": null,
   "id": "3f69bd69-1253-46e8-b58c-1205f843f0a1",
   "metadata": {},
   "outputs": [],
   "source": [
    "#int->integer"
   ]
  },
  {
   "cell_type": "code",
   "execution_count": 14,
   "id": "bb3aeb12-d14c-49da-856e-83c1c343de29",
   "metadata": {},
   "outputs": [],
   "source": [
    "x=-100"
   ]
  },
  {
   "cell_type": "code",
   "execution_count": 15,
   "id": "46b8ae7f-a03f-418c-8d2f-da6fbe4e5439",
   "metadata": {},
   "outputs": [
    {
     "data": {
      "text/plain": [
       "int"
      ]
     },
     "execution_count": 15,
     "metadata": {},
     "output_type": "execute_result"
    }
   ],
   "source": [
    "type(x)"
   ]
  },
  {
   "cell_type": "code",
   "execution_count": 16,
   "id": "b0963a8d-72be-42cb-b928-5f8bbc5e069b",
   "metadata": {},
   "outputs": [
    {
     "data": {
      "text/plain": [
       "float"
      ]
     },
     "execution_count": 16,
     "metadata": {},
     "output_type": "execute_result"
    }
   ],
   "source": [
    "type(3.14)"
   ]
  },
  {
   "cell_type": "code",
   "execution_count": null,
   "id": "0ed67d2d-78ea-45d8-874e-cb57af7a1921",
   "metadata": {},
   "outputs": [],
   "source": [
    "#float->floating point"
   ]
  },
  {
   "cell_type": "code",
   "execution_count": 17,
   "id": "2c02c8d0-1667-4f3e-a005-c9addda278cb",
   "metadata": {},
   "outputs": [],
   "source": [
    "pi=3.14"
   ]
  },
  {
   "cell_type": "code",
   "execution_count": 18,
   "id": "50b40a4f-4cce-4fa2-8850-ab4104e19fc2",
   "metadata": {},
   "outputs": [
    {
     "data": {
      "text/plain": [
       "6.28"
      ]
     },
     "execution_count": 18,
     "metadata": {},
     "output_type": "execute_result"
    }
   ],
   "source": [
    "pi*2"
   ]
  },
  {
   "cell_type": "code",
   "execution_count": 19,
   "id": "956fa97c-bb2c-4f57-8b07-03cfe563b7a9",
   "metadata": {},
   "outputs": [
    {
     "data": {
      "text/plain": [
       "-96.86"
      ]
     },
     "execution_count": 19,
     "metadata": {},
     "output_type": "execute_result"
    }
   ],
   "source": [
    "x+pi"
   ]
  },
  {
   "cell_type": "code",
   "execution_count": null,
   "id": "06d2bbc5-d5ba-47d0-8560-fa682e9139d1",
   "metadata": {},
   "outputs": [],
   "source": [
    "#camelCase\n",
    "#snake_case"
   ]
  },
  {
   "cell_type": "code",
   "execution_count": 20,
   "id": "92b51f96-dea2-4f8b-a610-b64873c05e95",
   "metadata": {},
   "outputs": [
    {
     "data": {
      "text/plain": [
       "float"
      ]
     },
     "execution_count": 20,
     "metadata": {},
     "output_type": "execute_result"
    }
   ],
   "source": [
    "type(40/4)"
   ]
  },
  {
   "cell_type": "code",
   "execution_count": 21,
   "id": "1a9d6374-69a1-44c2-a9df-d829e5b6d3ba",
   "metadata": {},
   "outputs": [
    {
     "data": {
      "text/plain": [
       "4.444444444444445"
      ]
     },
     "execution_count": 21,
     "metadata": {},
     "output_type": "execute_result"
    }
   ],
   "source": [
    "40/9"
   ]
  },
  {
   "cell_type": "code",
   "execution_count": 22,
   "id": "deb5be8e-f0c4-420c-9b4b-a182506d75ec",
   "metadata": {},
   "outputs": [
    {
     "data": {
      "text/plain": [
       "2.0"
      ]
     },
     "execution_count": 22,
     "metadata": {},
     "output_type": "execute_result"
    }
   ],
   "source": [
    "4.0-2"
   ]
  },
  {
   "cell_type": "code",
   "execution_count": 24,
   "id": "87b44d74-a07e-410d-9baf-e7612a866d1d",
   "metadata": {},
   "outputs": [
    {
     "data": {
      "text/plain": [
       "32"
      ]
     },
     "execution_count": 24,
     "metadata": {},
     "output_type": "execute_result"
    }
   ],
   "source": [
    "2*2*2*2*2"
   ]
  },
  {
   "cell_type": "code",
   "execution_count": 25,
   "id": "48cc0bb7-24ff-49fe-9b1a-05239f457a35",
   "metadata": {},
   "outputs": [
    {
     "data": {
      "text/plain": [
       "32"
      ]
     },
     "execution_count": 25,
     "metadata": {},
     "output_type": "execute_result"
    }
   ],
   "source": [
    "2**5"
   ]
  },
  {
   "cell_type": "code",
   "execution_count": 26,
   "id": "b83d187d-b2a0-4e86-828e-e51fbe9c9b5c",
   "metadata": {},
   "outputs": [
    {
     "data": {
      "text/plain": [
       "1"
      ]
     },
     "execution_count": 26,
     "metadata": {},
     "output_type": "execute_result"
    }
   ],
   "source": [
    "10%3 #remainder "
   ]
  },
  {
   "cell_type": "code",
   "execution_count": 27,
   "id": "bffb9815-b9aa-45fc-aa6d-b654251e53cf",
   "metadata": {},
   "outputs": [
    {
     "data": {
      "text/plain": [
       "2"
      ]
     },
     "execution_count": 27,
     "metadata": {},
     "output_type": "execute_result"
    }
   ],
   "source": [
    "10%4"
   ]
  }
 ],
 "metadata": {
  "kernelspec": {
   "display_name": "Python 3 (ipykernel)",
   "language": "python",
   "name": "python3"
  },
  "language_info": {
   "codemirror_mode": {
    "name": "ipython",
    "version": 3
   },
   "file_extension": ".py",
   "mimetype": "text/x-python",
   "name": "python",
   "nbconvert_exporter": "python",
   "pygments_lexer": "ipython3",
   "version": "3.12.3"
  }
 },
 "nbformat": 4,
 "nbformat_minor": 5
}
