{
 "cells": [
  {
   "cell_type": "code",
   "execution_count": 1,
   "id": "26dd032f-9071-40e9-b79c-0f47024dc15d",
   "metadata": {},
   "outputs": [
    {
     "data": {
      "text/plain": [
       "'hello world'"
      ]
     },
     "execution_count": 1,
     "metadata": {},
     "output_type": "execute_result"
    }
   ],
   "source": [
    "\"hello world\""
   ]
  },
  {
   "cell_type": "code",
   "execution_count": 2,
   "id": "ee706919-7041-4470-9697-83a2b6d65b4a",
   "metadata": {},
   "outputs": [
    {
     "name": "stdout",
     "output_type": "stream",
     "text": [
      "hello python\n"
     ]
    }
   ],
   "source": [
    "print(\"hello python\")"
   ]
  },
  {
   "cell_type": "code",
   "execution_count": 3,
   "id": "5288c491-0db2-4780-a851-fe13eec90125",
   "metadata": {},
   "outputs": [],
   "source": [
    "name=\"serife\""
   ]
  },
  {
   "cell_type": "code",
   "execution_count": 4,
   "id": "17c6251e-47f6-4900-813d-0bef6040b109",
   "metadata": {},
   "outputs": [
    {
     "data": {
      "text/plain": [
       "str"
      ]
     },
     "execution_count": 4,
     "metadata": {},
     "output_type": "execute_result"
    }
   ],
   "source": [
    "type(name)"
   ]
  },
  {
   "cell_type": "code",
   "execution_count": 5,
   "id": "df89c351-b547-41f8-be64-1490cfd8698c",
   "metadata": {},
   "outputs": [
    {
     "data": {
      "text/plain": [
       "'atil restaurant'"
      ]
     },
     "execution_count": 5,
     "metadata": {},
     "output_type": "execute_result"
    }
   ],
   "source": [
    "'atil restaurant'"
   ]
  },
  {
   "cell_type": "code",
   "execution_count": 1,
   "id": "dbc0edb5-ce43-42a7-8451-1f680df802d6",
   "metadata": {},
   "outputs": [],
   "source": [
    "name=\"atil samancioglu\""
   ]
  },
  {
   "cell_type": "code",
   "execution_count": 2,
   "id": "3224f780-66fa-4cd2-ac0a-382c626d879f",
   "metadata": {},
   "outputs": [
    {
     "data": {
      "text/plain": [
       "'Atil samancioglu'"
      ]
     },
     "execution_count": 2,
     "metadata": {},
     "output_type": "execute_result"
    }
   ],
   "source": [
    "name.capitalize()"
   ]
  },
  {
   "cell_type": "code",
   "execution_count": 3,
   "id": "3d2a2a48-64cb-4d66-9507-b4b658578500",
   "metadata": {},
   "outputs": [
    {
     "name": "stdout",
     "output_type": "stream",
     "text": [
      "Help on built-in function count:\n",
      "\n",
      "count(...) method of builtins.str instance\n",
      "    S.count(sub[, start[, end]]) -> int\n",
      "\n",
      "    Return the number of non-overlapping occurrences of substring sub in\n",
      "    string S[start:end].  Optional arguments start and end are\n",
      "    interpreted as in slice notation.\n",
      "\n"
     ]
    }
   ],
   "source": [
    "help(name.count)"
   ]
  },
  {
   "cell_type": "code",
   "execution_count": 4,
   "id": "0acbcfbf-53dc-4089-8bc1-fa33146f62c1",
   "metadata": {},
   "outputs": [
    {
     "name": "stdout",
     "output_type": "stream",
     "text": [
      "Help on built-in function capitalize:\n",
      "\n",
      "capitalize() method of builtins.str instance\n",
      "    Return a capitalized version of the string.\n",
      "\n",
      "    More specifically, make the first character have upper case and the rest lower\n",
      "    case.\n",
      "\n"
     ]
    }
   ],
   "source": [
    "help(name.capitalize)"
   ]
  },
  {
   "cell_type": "code",
   "execution_count": 5,
   "id": "ed2d2cc7-1155-465f-8d4f-9e0c58daa61f",
   "metadata": {},
   "outputs": [
    {
     "data": {
      "text/plain": [
       "'atil samancioglu'"
      ]
     },
     "execution_count": 5,
     "metadata": {},
     "output_type": "execute_result"
    }
   ],
   "source": [
    "name"
   ]
  },
  {
   "cell_type": "code",
   "execution_count": 6,
   "id": "164e2765-1367-4385-9e81-fb1d9903daf9",
   "metadata": {},
   "outputs": [
    {
     "data": {
      "text/plain": [
       "3"
      ]
     },
     "execution_count": 6,
     "metadata": {},
     "output_type": "execute_result"
    }
   ],
   "source": [
    "name.count(\"a\")"
   ]
  },
  {
   "cell_type": "code",
   "execution_count": 7,
   "id": "d4f4ce29-dba8-4c96-bf8d-3a5719aa0ff2",
   "metadata": {},
   "outputs": [
    {
     "data": {
      "text/plain": [
       "0"
      ]
     },
     "execution_count": 7,
     "metadata": {},
     "output_type": "execute_result"
    }
   ],
   "source": [
    "name.count(\"b\")"
   ]
  },
  {
   "cell_type": "code",
   "execution_count": 8,
   "id": "65789a43-527a-48ba-81d4-09bd2d36405c",
   "metadata": {},
   "outputs": [
    {
     "data": {
      "text/plain": [
       "'ATIL SAMANCIOGLU'"
      ]
     },
     "execution_count": 8,
     "metadata": {},
     "output_type": "execute_result"
    }
   ],
   "source": [
    "name.upper()"
   ]
  },
  {
   "cell_type": "code",
   "execution_count": 9,
   "id": "89ad21d8-2b2f-4359-a3c5-1311d1fead7a",
   "metadata": {},
   "outputs": [],
   "source": [
    "x=10\n",
    "y=5"
   ]
  },
  {
   "cell_type": "code",
   "execution_count": 10,
   "id": "92e4b2f2-59fe-4728-8590-8da4aca755b1",
   "metadata": {},
   "outputs": [
    {
     "data": {
      "text/plain": [
       "15"
      ]
     },
     "execution_count": 10,
     "metadata": {},
     "output_type": "execute_result"
    }
   ],
   "source": [
    "x+y"
   ]
  },
  {
   "cell_type": "code",
   "execution_count": 11,
   "id": "f69cc453-b8a1-4b3b-aa5d-153bf58e22cb",
   "metadata": {},
   "outputs": [],
   "source": [
    "z=x+y"
   ]
  },
  {
   "cell_type": "code",
   "execution_count": 12,
   "id": "c8bc895d-69c9-4894-8d6d-32128f4e0328",
   "metadata": {},
   "outputs": [
    {
     "data": {
      "text/plain": [
       "15"
      ]
     },
     "execution_count": 12,
     "metadata": {},
     "output_type": "execute_result"
    }
   ],
   "source": [
    "z"
   ]
  },
  {
   "cell_type": "code",
   "execution_count": 13,
   "id": "f587ef1d-c91c-4a2c-a08f-8751695a22b2",
   "metadata": {},
   "outputs": [
    {
     "data": {
      "text/plain": [
       "'atil samancioglu'"
      ]
     },
     "execution_count": 13,
     "metadata": {},
     "output_type": "execute_result"
    }
   ],
   "source": [
    "name"
   ]
  },
  {
   "cell_type": "code",
   "execution_count": 14,
   "id": "f496d256-0bab-4794-b5d7-86785b934201",
   "metadata": {},
   "outputs": [],
   "source": [
    "nameUpper=name.upper()"
   ]
  },
  {
   "cell_type": "code",
   "execution_count": 15,
   "id": "07a919e9-7ae6-48fd-88dc-b407c5b967e4",
   "metadata": {},
   "outputs": [
    {
     "data": {
      "text/plain": [
       "'ATIL SAMANCIOGLU'"
      ]
     },
     "execution_count": 15,
     "metadata": {},
     "output_type": "execute_result"
    }
   ],
   "source": [
    "nameUpper"
   ]
  },
  {
   "cell_type": "code",
   "execution_count": 16,
   "id": "1a6051ee-495e-4de6-a8a5-b2fc5c581b63",
   "metadata": {},
   "outputs": [
    {
     "data": {
      "text/plain": [
       "'atil samancioglu'"
      ]
     },
     "execution_count": 16,
     "metadata": {},
     "output_type": "execute_result"
    }
   ],
   "source": [
    "name"
   ]
  },
  {
   "cell_type": "code",
   "execution_count": 17,
   "id": "e72a5b3f-829a-4bfa-b578-994bced4d660",
   "metadata": {},
   "outputs": [
    {
     "name": "stdout",
     "output_type": "stream",
     "text": [
      "ATIL SAMANCIOGLU\n"
     ]
    }
   ],
   "source": [
    "print(name.upper())"
   ]
  },
  {
   "cell_type": "code",
   "execution_count": 18,
   "id": "e51c3a5f-83a2-411a-a081-77ab98c3011b",
   "metadata": {},
   "outputs": [
    {
     "name": "stdout",
     "output_type": "stream",
     "text": [
      "Help on built-in function upper:\n",
      "\n",
      "upper() method of builtins.str instance\n",
      "    Return a copy of the string converted to uppercase.\n",
      "\n"
     ]
    }
   ],
   "source": [
    "help(name.upper)"
   ]
  },
  {
   "cell_type": "code",
   "execution_count": 19,
   "id": "ee713421-75fd-4f52-8966-10c761ed88bb",
   "metadata": {},
   "outputs": [
    {
     "data": {
      "text/plain": [
       "16"
      ]
     },
     "execution_count": 19,
     "metadata": {},
     "output_type": "execute_result"
    }
   ],
   "source": [
    "len(name)  #length"
   ]
  },
  {
   "cell_type": "code",
   "execution_count": 20,
   "id": "400f5b2a-6cf7-44ff-a871-160d96f2bdb7",
   "metadata": {},
   "outputs": [
    {
     "name": "stdout",
     "output_type": "stream",
     "text": [
      "atil samancioglu\n"
     ]
    }
   ],
   "source": [
    "print(\"atil samancioglu\")"
   ]
  },
  {
   "cell_type": "code",
   "execution_count": 21,
   "id": "4068d698-f531-4b8d-b92d-fa7e48e682f2",
   "metadata": {},
   "outputs": [
    {
     "name": "stdout",
     "output_type": "stream",
     "text": [
      "atil \n",
      "samancioglu\n"
     ]
    }
   ],
   "source": [
    "print(\"atil \\nsamancioglu\")"
   ]
  },
  {
   "cell_type": "code",
   "execution_count": 22,
   "id": "f3530613-c652-4182-bafc-7a8e95feeda3",
   "metadata": {},
   "outputs": [],
   "source": [
    "# \\n ->new line"
   ]
  },
  {
   "cell_type": "code",
   "execution_count": 23,
   "id": "2ffb9e0a-3f72-453e-9dec-e8d7ed24deb6",
   "metadata": {},
   "outputs": [],
   "source": [
    "# escape characters"
   ]
  },
  {
   "cell_type": "code",
   "execution_count": 24,
   "id": "b9994283-3c41-4f4c-87c5-9623d1e1f3a7",
   "metadata": {},
   "outputs": [],
   "source": [
    "# \\t ->tab"
   ]
  },
  {
   "cell_type": "markdown",
   "id": "2069a400-03df-4835-ba35-bd630e2e7505",
   "metadata": {},
   "source": [
    "# İNDEX"
   ]
  },
  {
   "cell_type": "code",
   "execution_count": 25,
   "id": "905e5782-c675-44de-81d3-994f29f7f4ba",
   "metadata": {},
   "outputs": [],
   "source": [
    "myString = \"hello python\""
   ]
  },
  {
   "cell_type": "code",
   "execution_count": 26,
   "id": "3db5a544-1bae-48f2-ae66-829ed9c6982b",
   "metadata": {},
   "outputs": [
    {
     "data": {
      "text/plain": [
       "'o'"
      ]
     },
     "execution_count": 26,
     "metadata": {},
     "output_type": "execute_result"
    }
   ],
   "source": [
    "myString[4]"
   ]
  },
  {
   "cell_type": "code",
   "execution_count": 27,
   "id": "bef2b0a6-4df0-4ee1-bcd1-a818d21a3dcb",
   "metadata": {},
   "outputs": [
    {
     "data": {
      "text/plain": [
       "'h'"
      ]
     },
     "execution_count": 27,
     "metadata": {},
     "output_type": "execute_result"
    }
   ],
   "source": [
    "myString[0]"
   ]
  },
  {
   "cell_type": "code",
   "execution_count": 28,
   "id": "e7ae6a41-cb02-41b5-8f21-cf6937e71145",
   "metadata": {},
   "outputs": [
    {
     "data": {
      "text/plain": [
       "'e'"
      ]
     },
     "execution_count": 28,
     "metadata": {},
     "output_type": "execute_result"
    }
   ],
   "source": [
    "myString[1]"
   ]
  },
  {
   "cell_type": "code",
   "execution_count": 29,
   "id": "bef94158-13ec-4ffc-84a5-b0cfaffaf8ab",
   "metadata": {},
   "outputs": [
    {
     "data": {
      "text/plain": [
       "'n'"
      ]
     },
     "execution_count": 29,
     "metadata": {},
     "output_type": "execute_result"
    }
   ],
   "source": [
    "myString[11]"
   ]
  },
  {
   "cell_type": "code",
   "execution_count": 30,
   "id": "131aa234-35d1-4e96-a028-b70483ac80b7",
   "metadata": {},
   "outputs": [
    {
     "data": {
      "text/plain": [
       "'hello python'"
      ]
     },
     "execution_count": 30,
     "metadata": {},
     "output_type": "execute_result"
    }
   ],
   "source": [
    "myString"
   ]
  },
  {
   "cell_type": "code",
   "execution_count": 31,
   "id": "702eb844-9ef5-4562-bc66-fbf97e33a214",
   "metadata": {},
   "outputs": [],
   "source": [
    "myString = \"serife ocak\""
   ]
  },
  {
   "cell_type": "code",
   "execution_count": 32,
   "id": "649e8f45-da5a-4d15-bef5-3ea54ae7b35b",
   "metadata": {},
   "outputs": [
    {
     "data": {
      "text/plain": [
       "'s'"
      ]
     },
     "execution_count": 32,
     "metadata": {},
     "output_type": "execute_result"
    }
   ],
   "source": [
    "myString[0]"
   ]
  },
  {
   "cell_type": "code",
   "execution_count": 33,
   "id": "c849a2e8-175d-471f-9c91-c77207d3699e",
   "metadata": {},
   "outputs": [
    {
     "data": {
      "text/plain": [
       "11"
      ]
     },
     "execution_count": 33,
     "metadata": {},
     "output_type": "execute_result"
    }
   ],
   "source": [
    "len(myString)"
   ]
  },
  {
   "cell_type": "code",
   "execution_count": 34,
   "id": "2a714657-8a2f-4817-a188-a4a5f1f15012",
   "metadata": {},
   "outputs": [
    {
     "data": {
      "text/plain": [
       "10"
      ]
     },
     "execution_count": 34,
     "metadata": {},
     "output_type": "execute_result"
    }
   ],
   "source": [
    "len(myString) - 1"
   ]
  },
  {
   "cell_type": "code",
   "execution_count": 35,
   "id": "40cd2c99-7a23-4579-8592-30524952fb2b",
   "metadata": {},
   "outputs": [],
   "source": [
    "myName = \"james hetfield\""
   ]
  },
  {
   "cell_type": "code",
   "execution_count": 36,
   "id": "bcc98ed8-f9c4-43cb-997a-9e31a95c3a05",
   "metadata": {},
   "outputs": [
    {
     "data": {
      "text/plain": [
       "'d'"
      ]
     },
     "execution_count": 36,
     "metadata": {},
     "output_type": "execute_result"
    }
   ],
   "source": [
    "myName[len(myName)-1]"
   ]
  },
  {
   "cell_type": "code",
   "execution_count": 37,
   "id": "ba72aa9b-83c4-4c29-9592-d4485478b295",
   "metadata": {},
   "outputs": [
    {
     "data": {
      "text/plain": [
       "'l'"
      ]
     },
     "execution_count": 37,
     "metadata": {},
     "output_type": "execute_result"
    }
   ],
   "source": [
    "myName[-2]"
   ]
  },
  {
   "cell_type": "code",
   "execution_count": 38,
   "id": "66d83d17-b640-4493-b3d7-0a51943c0055",
   "metadata": {},
   "outputs": [],
   "source": [
    "barcode = \"ABCDE123123982\""
   ]
  },
  {
   "cell_type": "code",
   "execution_count": 39,
   "id": "2003de40-482a-44c3-81b2-fa8d3d467f6a",
   "metadata": {},
   "outputs": [
    {
     "data": {
      "text/plain": [
       "'A'"
      ]
     },
     "execution_count": 39,
     "metadata": {},
     "output_type": "execute_result"
    }
   ],
   "source": [
    "barcode[0]"
   ]
  },
  {
   "cell_type": "code",
   "execution_count": 40,
   "id": "99d29930-b0f2-4494-9fda-3184d7803cbc",
   "metadata": {},
   "outputs": [
    {
     "data": {
      "text/plain": [
       "'B'"
      ]
     },
     "execution_count": 40,
     "metadata": {},
     "output_type": "execute_result"
    }
   ],
   "source": [
    "barcode[1]"
   ]
  },
  {
   "cell_type": "code",
   "execution_count": 41,
   "id": "e3b50272-f32f-4548-8433-8c0f14994df4",
   "metadata": {},
   "outputs": [
    {
     "data": {
      "text/plain": [
       "'C'"
      ]
     },
     "execution_count": 41,
     "metadata": {},
     "output_type": "execute_result"
    }
   ],
   "source": [
    "barcode[2]"
   ]
  },
  {
   "cell_type": "code",
   "execution_count": 42,
   "id": "0b0d8d9a-82fc-415d-a003-30d37c041ac7",
   "metadata": {},
   "outputs": [
    {
     "data": {
      "text/plain": [
       "'AB'"
      ]
     },
     "execution_count": 42,
     "metadata": {},
     "output_type": "execute_result"
    }
   ],
   "source": [
    "\"A\"+\"B\""
   ]
  },
  {
   "cell_type": "code",
   "execution_count": 44,
   "id": "132775c4-e291-44b6-b9cd-c2c11b29eff1",
   "metadata": {},
   "outputs": [],
   "source": [
    "name=\"serife\""
   ]
  },
  {
   "cell_type": "code",
   "execution_count": 45,
   "id": "b7224c61-7c5a-4400-9441-15b0a644c5db",
   "metadata": {},
   "outputs": [],
   "source": [
    "surname=\"ocak\""
   ]
  },
  {
   "cell_type": "code",
   "execution_count": 46,
   "id": "0e58333e-f065-4f0a-9ee6-21e358c024cf",
   "metadata": {},
   "outputs": [
    {
     "data": {
      "text/plain": [
       "'serifeocak'"
      ]
     },
     "execution_count": 46,
     "metadata": {},
     "output_type": "execute_result"
    }
   ],
   "source": [
    "name+surname"
   ]
  },
  {
   "cell_type": "code",
   "execution_count": 47,
   "id": "095f9f65-bc56-4064-90c3-bbfc3c91d031",
   "metadata": {},
   "outputs": [],
   "source": [
    "fullname=name+\" \"+surname"
   ]
  },
  {
   "cell_type": "code",
   "execution_count": 48,
   "id": "7f03b2dc-7656-43bc-8626-532af4a7c9cd",
   "metadata": {},
   "outputs": [
    {
     "data": {
      "text/plain": [
       "'serife ocak'"
      ]
     },
     "execution_count": 48,
     "metadata": {},
     "output_type": "execute_result"
    }
   ],
   "source": [
    "fullname"
   ]
  },
  {
   "cell_type": "code",
   "execution_count": 49,
   "id": "bc49b159-d4b0-4b10-8edf-7d706b7e6512",
   "metadata": {},
   "outputs": [
    {
     "data": {
      "text/plain": [
       "'serife ocakserife ocakserife ocakserife ocakserife ocak'"
      ]
     },
     "execution_count": 49,
     "metadata": {},
     "output_type": "execute_result"
    }
   ],
   "source": [
    "fullname * 5"
   ]
  },
  {
   "cell_type": "code",
   "execution_count": 50,
   "id": "399e3a83-2503-4a03-a2c5-cd113bbb92e7",
   "metadata": {},
   "outputs": [
    {
     "data": {
      "text/plain": [
       "'ABCDE123123982'"
      ]
     },
     "execution_count": 50,
     "metadata": {},
     "output_type": "execute_result"
    }
   ],
   "source": [
    "barcode"
   ]
  },
  {
   "cell_type": "code",
   "execution_count": 51,
   "id": "1a72e79f-08ca-4b8e-b79f-d2af577ddcd8",
   "metadata": {},
   "outputs": [
    {
     "data": {
      "text/plain": [
       "'ABC'"
      ]
     },
     "execution_count": 51,
     "metadata": {},
     "output_type": "execute_result"
    }
   ],
   "source": [
    "barcode[0] + barcode[1] + barcode[2]"
   ]
  },
  {
   "cell_type": "code",
   "execution_count": 52,
   "id": "fa4972d3-2f86-4aaf-9155-e4538e38d602",
   "metadata": {},
   "outputs": [],
   "source": [
    "#slicing, starting index, stopping index, stepping size"
   ]
  },
  {
   "cell_type": "code",
   "execution_count": 53,
   "id": "3e70df48-6030-4607-8191-5a3e546b3723",
   "metadata": {},
   "outputs": [
    {
     "data": {
      "text/plain": [
       "'ABCDE123123982'"
      ]
     },
     "execution_count": 53,
     "metadata": {},
     "output_type": "execute_result"
    }
   ],
   "source": [
    "barcode"
   ]
  },
  {
   "cell_type": "code",
   "execution_count": 54,
   "id": "081aec78-54a4-4886-ac3e-c50d8f81bdc5",
   "metadata": {},
   "outputs": [
    {
     "data": {
      "text/plain": [
       "'ABCDE123123982'"
      ]
     },
     "execution_count": 54,
     "metadata": {},
     "output_type": "execute_result"
    }
   ],
   "source": [
    "barcode[::]"
   ]
  },
  {
   "cell_type": "code",
   "execution_count": 55,
   "id": "81613298-cfcb-477f-aaee-cfe4341bdccd",
   "metadata": {},
   "outputs": [],
   "source": [
    "#barcode[starting index:stopping index:stepping size]"
   ]
  },
  {
   "cell_type": "code",
   "execution_count": 56,
   "id": "36843250-5838-4a51-9ec8-5bcfb2170d9c",
   "metadata": {},
   "outputs": [
    {
     "data": {
      "text/plain": [
       "'DE123123982'"
      ]
     },
     "execution_count": 56,
     "metadata": {},
     "output_type": "execute_result"
    }
   ],
   "source": [
    "barcode[3::]"
   ]
  },
  {
   "cell_type": "code",
   "execution_count": 57,
   "id": "04168b98-5095-4ca0-a63a-6781f57250c4",
   "metadata": {},
   "outputs": [
    {
     "data": {
      "text/plain": [
       "'ABC'"
      ]
     },
     "execution_count": 57,
     "metadata": {},
     "output_type": "execute_result"
    }
   ],
   "source": [
    "barcode[:3:]"
   ]
  },
  {
   "cell_type": "code",
   "execution_count": 58,
   "id": "ab414b93-8313-475f-aedf-54b2c8495dd0",
   "metadata": {},
   "outputs": [
    {
     "data": {
      "text/plain": [
       "'ABCDE'"
      ]
     },
     "execution_count": 58,
     "metadata": {},
     "output_type": "execute_result"
    }
   ],
   "source": [
    "barcode[:5:]"
   ]
  },
  {
   "cell_type": "code",
   "execution_count": 59,
   "id": "883d271f-07de-443e-807d-3486f4f38c19",
   "metadata": {},
   "outputs": [
    {
     "data": {
      "text/plain": [
       "'ABCDE123123982'"
      ]
     },
     "execution_count": 59,
     "metadata": {},
     "output_type": "execute_result"
    }
   ],
   "source": [
    "barcode"
   ]
  },
  {
   "cell_type": "code",
   "execution_count": 60,
   "id": "7edfb510-ba28-41a3-a840-c80c5d753af0",
   "metadata": {},
   "outputs": [
    {
     "data": {
      "text/plain": [
       "'ACE2138'"
      ]
     },
     "execution_count": 60,
     "metadata": {},
     "output_type": "execute_result"
    }
   ],
   "source": [
    "barcode[::2]"
   ]
  },
  {
   "cell_type": "code",
   "execution_count": 61,
   "id": "58b84f22-6222-44f7-826b-790332f0a115",
   "metadata": {},
   "outputs": [
    {
     "data": {
      "text/plain": [
       "'AD228'"
      ]
     },
     "execution_count": 61,
     "metadata": {},
     "output_type": "execute_result"
    }
   ],
   "source": [
    "barcode[::3]"
   ]
  },
  {
   "cell_type": "code",
   "execution_count": 62,
   "id": "93694c27-c37b-4806-a984-3e0edc2ba228",
   "metadata": {},
   "outputs": [
    {
     "data": {
      "text/plain": [
       "'ABCDE123123982'"
      ]
     },
     "execution_count": 62,
     "metadata": {},
     "output_type": "execute_result"
    }
   ],
   "source": [
    "barcode[::]"
   ]
  },
  {
   "cell_type": "code",
   "execution_count": 63,
   "id": "42e5ec28-7da5-4a82-a957-e3fabd6198aa",
   "metadata": {},
   "outputs": [
    {
     "data": {
      "text/plain": [
       "'DE'"
      ]
     },
     "execution_count": 63,
     "metadata": {},
     "output_type": "execute_result"
    }
   ],
   "source": [
    "barcode[3:5:]"
   ]
  },
  {
   "cell_type": "code",
   "execution_count": 64,
   "id": "82014cbe-3d01-4c03-a96d-5a28de77bc6b",
   "metadata": {},
   "outputs": [
    {
     "data": {
      "text/plain": [
       "'BD13'"
      ]
     },
     "execution_count": 64,
     "metadata": {},
     "output_type": "execute_result"
    }
   ],
   "source": [
    "barcode[1:9:2]"
   ]
  },
  {
   "cell_type": "code",
   "execution_count": 65,
   "id": "257b0ba0-eadb-47df-b1da-aa5db2c6f36a",
   "metadata": {},
   "outputs": [
    {
     "data": {
      "text/plain": [
       "'289321321EDCBA'"
      ]
     },
     "execution_count": 65,
     "metadata": {},
     "output_type": "execute_result"
    }
   ],
   "source": [
    "barcode[::-1]"
   ]
  },
  {
   "cell_type": "code",
   "execution_count": 66,
   "id": "b36ac948-aaf5-4168-9a9b-97ea564a8d7c",
   "metadata": {},
   "outputs": [],
   "source": [
    "name = \"serife ocak\""
   ]
  },
  {
   "cell_type": "code",
   "execution_count": 67,
   "id": "e9fd3843-0d2a-4126-847c-a7045fab6de1",
   "metadata": {},
   "outputs": [
    {
     "data": {
      "text/plain": [
       "0"
      ]
     },
     "execution_count": 67,
     "metadata": {},
     "output_type": "execute_result"
    }
   ],
   "source": [
    "name.index(\"s\")"
   ]
  },
  {
   "cell_type": "code",
   "execution_count": 68,
   "id": "8c3d86c4-80fe-4056-9d06-5bf81070d21a",
   "metadata": {},
   "outputs": [
    {
     "data": {
      "text/plain": [
       "['serife', 'ocak']"
      ]
     },
     "execution_count": 68,
     "metadata": {},
     "output_type": "execute_result"
    }
   ],
   "source": [
    "name.split()"
   ]
  },
  {
   "cell_type": "code",
   "execution_count": 69,
   "id": "34ddb562-aa8b-4c97-a479-ab148322b604",
   "metadata": {},
   "outputs": [
    {
     "data": {
      "text/plain": [
       "list"
      ]
     },
     "execution_count": 69,
     "metadata": {},
     "output_type": "execute_result"
    }
   ],
   "source": [
    "type(name.split())"
   ]
  }
 ],
 "metadata": {
  "kernelspec": {
   "display_name": "Python 3 (ipykernel)",
   "language": "python",
   "name": "python3"
  },
  "language_info": {
   "codemirror_mode": {
    "name": "ipython",
    "version": 3
   },
   "file_extension": ".py",
   "mimetype": "text/x-python",
   "name": "python",
   "nbconvert_exporter": "python",
   "pygments_lexer": "ipython3",
   "version": "3.12.3"
  }
 },
 "nbformat": 4,
 "nbformat_minor": 5
}
